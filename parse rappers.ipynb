{
 "cells": [
  {
   "cell_type": "code",
   "execution_count": 1,
   "metadata": {},
   "outputs": [],
   "source": [
    "import ast\n",
    "import lyricsgenius as lg"
   ]
  },
  {
   "cell_type": "markdown",
   "metadata": {},
   "source": [
    "# Получить названия песен и имена исполнителей"
   ]
  },
  {
   "cell_type": "code",
   "execution_count": 2,
   "metadata": {},
   "outputs": [],
   "source": [
    "# Source: https://stackoverflow.com/a/64211769\n",
    "def bracketed_split(string, delimiter, strip_brackets=False):\n",
    "    \"\"\" Split a string by the delimiter unless it is inside brackets.\n",
    "    e.g.\n",
    "        list(bracketed_split('abc,(def,ghi),jkl', delimiter=',')) == ['abc', '(def,ghi)', 'jkl']\n",
    "    \"\"\"\n",
    "\n",
    "    openers = '[{(<'\n",
    "    closers = ']})>'\n",
    "    opener_to_closer = dict(zip(openers, closers))\n",
    "    opening_bracket = dict()\n",
    "    current_string = ''\n",
    "    depth = 0\n",
    "    for c in string:\n",
    "        if c in openers:\n",
    "            depth += 1\n",
    "            opening_bracket[depth] = c\n",
    "            if strip_brackets and depth == 1:\n",
    "                continue\n",
    "        elif c in closers:\n",
    "            assert depth > 0, f\"You exited more brackets that we have entered in string {string}\"\n",
    "            assert c == opener_to_closer[opening_bracket[depth]], f\"Closing bracket {c} did not match opening bracket {opening_bracket[depth]} in string {string}\"\n",
    "            depth -= 1\n",
    "            if strip_brackets and depth == 0:\n",
    "                continue\n",
    "        if depth == 0 and c == delimiter:\n",
    "            yield current_string\n",
    "            current_string = ''\n",
    "        else:\n",
    "            current_string += c\n",
    "    assert depth == 0, f'You did not close all brackets in string {string}'\n",
    "    yield current_string"
   ]
  },
  {
   "cell_type": "code",
   "execution_count": 3,
   "metadata": {},
   "outputs": [],
   "source": [
    "with open(\"songs\", 'r') as titles:\n",
    "    data = titles.read()[1:-5]\n",
    "    data = data.replace('true', 'True')\n",
    "    data = data.replace('false', 'False')\n",
    "    playlist = list(bracketed_split(data, delimiter=','))"
   ]
  },
  {
   "cell_type": "code",
   "execution_count": 8,
   "metadata": {},
   "outputs": [],
   "source": [
    "Client_Access_Token = ''\n",
    "genius = lg.Genius(Client_Access_Token, skip_non_songs=True, excluded_terms=[\"(Remix)\", \"(Live)\"],\n",
    "                   remove_section_headers=True)"
   ]
  },
  {
   "cell_type": "code",
   "execution_count": 9,
   "metadata": {
    "scrolled": true
   },
   "outputs": [
    {
     "name": "stdout",
     "output_type": "stream",
     "text": [
      "Searching for \"Неправильно\" by LOVV66...\n",
      "Done.\n",
      "PROGRESS: 0\n",
      "Searching for \"LOVE\" by КУОК...\n",
      "Done.\n",
      "Searching for \"XXX (feat. J. ROUH)\" by SALUKI...\n",
      "Done.\n",
      "Searching for \"DRILL\" by Джарахов feat. Смешарики...\n",
      "Done.\n",
      "Searching for \"Время догонит нас\" by T-Fest...\n",
      "Done.\n",
      "Searching for \"БУМ\" by Даня Милохин...\n",
      "Done.\n",
      "Searching for \"Amahustla\" by RAM...\n",
      "Done.\n",
      "Searching for \"Экзотика\" by Индаблэк...\n",
      "Done.\n",
      "Searching for \"Hola\" by MARCO-9 feat. Жак Энтони...\n",
      "Done.\n",
      "Searching for \"Миллионы\" by THRILL PILL...\n",
      "Done.\n",
      "Searching for \"Маски\" by Тимати...\n",
      "Specified song does not have a valid lyrics. Rejecting.\n",
      "some exception at Тимати - Маски\n",
      "PROGRESS: 10\n",
      "Searching for \"Секреты\" by Райда...\n",
      "Done.\n",
      "Searching for \"Топь\" by Missu feat. Мак Сима Мгла...\n",
      "Done.\n",
      "Searching for \"Разгон\" by PINQ...\n",
      "Done.\n",
      "Searching for \"Niagara\" by KURT92...\n",
      "Done.\n",
      "Searching for \"ШТОРМ\" by CAKEBOY...\n",
      "Done.\n",
      "Searching for \"Money Day\" by INSTASAMKA...\n",
      "Done.\n",
      "Searching for \"Baby\" by Плага...\n",
      "Done.\n",
      "Searching for \"Район\" by Индаблэк...\n",
      "Done.\n",
      "Searching for \"лаффи таффи\" by AGGEL...\n",
      "No results found for: 'лаффи таффи AGGEL'\n",
      "some exception at AGGEL - лаффи таффи\n",
      "Searching for \"Malta Malta\" by Гарри Топор...\n",
      "Done.\n",
      "PROGRESS: 20\n",
      "Searching for \"Девочка с Севера\" by Johnyboy...\n",
      "Done.\n",
      "Searching for \"Ближе\" by Чурдаль...\n",
      "No results found for: 'Ближе Чурдаль'\n",
      "some exception at Чурдаль - Ближе\n",
      "Searching for \"Зуб\" by PLOHOYPAREN...\n",
      "Done.\n",
      "Searching for \"Губы Кислота\" by Volodya...\n",
      "No results found for: 'Губы Кислота Volodya'\n",
      "some exception at Volodya - Губы Кислота\n",
      "Searching for \"Прятки\" by САФАРИ...\n",
      "Done.\n",
      "Searching for \"Чары\" by Pretty Scream...\n",
      "Done.\n",
      "Searching for \"Молодость\" by Zuwu...\n",
      "No results found for: 'Молодость Zuwu'\n",
      "some exception at Zuwu - Молодость\n",
      "Searching for \"Целлофановая весна\" by УННВ...\n",
      "Done.\n",
      "Searching for \"Уехать\" by SHOOVAL...\n",
      "Done.\n",
      "Searching for \"роль мишени\" by лучнадежды...\n",
      "No results found for: 'роль мишени лучнадежды'\n",
      "some exception at лучнадежды - роль мишени\n",
      "PROGRESS: 30\n",
      "Searching for \"Prada\" by ХОЛОД...\n",
      "Done.\n"
     ]
    }
   ],
   "source": [
    "file = open(\"songs_lyrics.txt\", \"w\")\n",
    "success = 0\n",
    "\n",
    "for i, song in enumerate(playlist):\n",
    "    song_list = ast.literal_eval(song)\n",
    "    artist = song_list[4].split(',')[0]\n",
    "    title = song_list[3]\n",
    "    try:\n",
    "        s = genius.search_song(title, artist).lyrics\n",
    "        file.write(s)\n",
    "        success += 1\n",
    "    except:\n",
    "        print(f\"some exception at {artist} - {title}\")\n",
    "    \n",
    "    if i % 10 == 0:\n",
    "        print(F'PROGRESS: {i}')\n",
    "    if i > 30:\n",
    "        break"
   ]
  },
  {
   "cell_type": "code",
   "execution_count": 10,
   "metadata": {},
   "outputs": [
    {
     "name": "stdout",
     "output_type": "stream",
     "text": [
      "# of successful: 26\n"
     ]
    }
   ],
   "source": [
    "print(f\"# of successful: {success}\")"
   ]
  },
  {
   "cell_type": "markdown",
   "metadata": {},
   "source": [
    "# Предобработка текстов"
   ]
  },
  {
   "cell_type": "code",
   "execution_count": 11,
   "metadata": {
    "collapsed": true
   },
   "outputs": [
    {
     "ename": "ModuleNotFoundError",
     "evalue": "No module named 'pymorphy2'",
     "output_type": "error",
     "traceback": [
      "\u001b[0;31m---------------------------------------------------------------------------\u001b[0m",
      "\u001b[0;31mModuleNotFoundError\u001b[0m                       Traceback (most recent call last)",
      "\u001b[0;32m<ipython-input-11-19a3c6633cf2>\u001b[0m in \u001b[0;36m<module>\u001b[0;34m\u001b[0m\n\u001b[0;32m----> 1\u001b[0;31m \u001b[0;32mimport\u001b[0m \u001b[0mpymorphy2\u001b[0m\u001b[0;34m\u001b[0m\u001b[0;34m\u001b[0m\u001b[0m\n\u001b[0m",
      "\u001b[0;31mModuleNotFoundError\u001b[0m: No module named 'pymorphy2'"
     ]
    }
   ],
   "source": [
    "import pymorphy2"
   ]
  },
  {
   "cell_type": "code",
   "execution_count": null,
   "metadata": {},
   "outputs": [],
   "source": []
  }
 ],
 "metadata": {
  "kernelspec": {
   "display_name": "Python 3",
   "language": "python",
   "name": "python3"
  },
  "language_info": {
   "codemirror_mode": {
    "name": "ipython",
    "version": 3
   },
   "file_extension": ".py",
   "mimetype": "text/x-python",
   "name": "python",
   "nbconvert_exporter": "python",
   "pygments_lexer": "ipython3",
   "version": "3.7.10"
  }
 },
 "nbformat": 4,
 "nbformat_minor": 4
}
