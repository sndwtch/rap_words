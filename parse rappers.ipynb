{
 "cells": [
  {
   "cell_type": "code",
   "execution_count": 25,
   "metadata": {},
   "outputs": [],
   "source": [
    "import ast"
   ]
  },
  {
   "cell_type": "code",
   "execution_count": 17,
   "metadata": {},
   "outputs": [],
   "source": [
    "def bracketed_split(string, delimiter, strip_brackets=False):\n",
    "    \"\"\" Split a string by the delimiter unless it is inside brackets.\n",
    "    e.g.\n",
    "        list(bracketed_split('abc,(def,ghi),jkl', delimiter=',')) == ['abc', '(def,ghi)', 'jkl']\n",
    "    \"\"\"\n",
    "\n",
    "    openers = '[{(<'\n",
    "    closers = ']})>'\n",
    "    opener_to_closer = dict(zip(openers, closers))\n",
    "    opening_bracket = dict()\n",
    "    current_string = ''\n",
    "    depth = 0\n",
    "    for c in string:\n",
    "        if c in openers:\n",
    "            depth += 1\n",
    "            opening_bracket[depth] = c\n",
    "            if strip_brackets and depth == 1:\n",
    "                continue\n",
    "        elif c in closers:\n",
    "            assert depth > 0, f\"You exited more brackets that we have entered in string {string}\"\n",
    "            assert c == opener_to_closer[opening_bracket[depth]], f\"Closing bracket {c} did not match opening bracket {opening_bracket[depth]} in string {string}\"\n",
    "            depth -= 1\n",
    "            if strip_brackets and depth == 0:\n",
    "                continue\n",
    "        if depth == 0 and c == delimiter:\n",
    "            yield current_string\n",
    "            current_string = ''\n",
    "        else:\n",
    "            current_string += c\n",
    "    assert depth == 0, f'You did not close all brackets in string {string}'\n",
    "    yield current_string"
   ]
  },
  {
   "cell_type": "code",
   "execution_count": 23,
   "metadata": {},
   "outputs": [],
   "source": [
    "with open(\"songs\", 'r') as file:\n",
    "    data = file.read()[1:-5]\n",
    "    data = data.replace('true', 'True')\n",
    "    data = data.replace('false', 'False')\n",
    "    playlist = list(bracketed_split(data, delimiter=','))"
   ]
  },
  {
   "cell_type": "code",
   "execution_count": 27,
   "metadata": {},
   "outputs": [],
   "source": [
    "songs = []\n",
    "for song in playlist:\n",
    "    song_list = ast.literal_eval(song)\n",
    "    songs.append((song_list[3], song_list[4]))"
   ]
  },
  {
   "cell_type": "code",
   "execution_count": 28,
   "metadata": {},
   "outputs": [
    {
     "data": {
      "text/plain": [
       "[('Неправильно', 'LOVV66, OG Buda'),\n",
       " ('LOVE', 'КУОК'),\n",
       " ('XXX (feat. J. ROUH)', 'SALUKI, 104 feat. J. ROUH'),\n",
       " ('DRILL', 'Джарахов feat. Смешарики'),\n",
       " ('Время догонит нас', 'T-Fest')]"
      ]
     },
     "execution_count": 28,
     "metadata": {},
     "output_type": "execute_result"
    }
   ],
   "source": [
    "songs[:5]"
   ]
  },
  {
   "cell_type": "code",
   "execution_count": null,
   "metadata": {},
   "outputs": [],
   "source": []
  }
 ],
 "metadata": {
  "kernelspec": {
   "display_name": "Python 3",
   "language": "python",
   "name": "python3"
  },
  "language_info": {
   "codemirror_mode": {
    "name": "ipython",
    "version": 3
   },
   "file_extension": ".py",
   "mimetype": "text/x-python",
   "name": "python",
   "nbconvert_exporter": "python",
   "pygments_lexer": "ipython3",
   "version": "3.7.10"
  }
 },
 "nbformat": 4,
 "nbformat_minor": 4
}
